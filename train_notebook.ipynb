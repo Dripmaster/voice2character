{
 "cells": [
  {
   "cell_type": "code",
   "execution_count": 1,
   "id": "ab4d29fc",
   "metadata": {},
   "outputs": [
    {
     "name": "stdout",
     "output_type": "stream",
     "text": [
      "Parsing your dataset...\n"
     ]
    }
   ],
   "source": [
    "import os\n",
    "import time\n",
    "import torch\n",
    "import torch.nn.functional as F\n",
    "\n",
    "from torch.utils.data import DataLoader\n",
    "from config import DATASET_PARAMETERS, NETWORKS_PARAMETERS\n",
    "from parse_dataset import get_dataset\n",
    "from network import get_network\n",
    "from utils import Meter, cycle, save_model\n",
    "\n",
    "\n",
    "# dataset and dataloader\n",
    "print('Parsing your dataset...')\n",
    "voice_list, face_list, id_class_num = get_dataset(DATASET_PARAMETERS)\n",
    "NETWORKS_PARAMETERS['c']['output_channel'] = id_class_num"
   ]
  },
  {
   "cell_type": "code",
   "execution_count": 2,
   "id": "b48224b5",
   "metadata": {},
   "outputs": [
    {
     "name": "stdout",
     "output_type": "stream",
     "text": [
      "Preparing the datasets...\n"
     ]
    }
   ],
   "source": [
    "print('Preparing the datasets...')\n",
    "voice_dataset = DATASET_PARAMETERS['voice_dataset'](voice_list,\n",
    "                               DATASET_PARAMETERS['nframe_range'])\n",
    "face_dataset = DATASET_PARAMETERS['face_dataset'](face_list)"
   ]
  },
  {
   "cell_type": "code",
   "execution_count": 3,
   "id": "76312847",
   "metadata": {},
   "outputs": [
    {
     "name": "stdout",
     "output_type": "stream",
     "text": [
      "Preparing the dataloaders...\n"
     ]
    }
   ],
   "source": [
    "print('Preparing the dataloaders...')\n",
    "collate_fn = DATASET_PARAMETERS['collate_fn'](DATASET_PARAMETERS['nframe_range'])\n",
    "voice_loader = DataLoader(voice_dataset, shuffle=True, drop_last=True,\n",
    "                          batch_size=DATASET_PARAMETERS['batch_size'],\n",
    "                          num_workers=DATASET_PARAMETERS['workers_num'],\n",
    "                          collate_fn=collate_fn)\n",
    "face_loader = DataLoader(face_dataset, shuffle=True, drop_last=True,\n",
    "                         batch_size=DATASET_PARAMETERS['batch_size'],\n",
    "                         num_workers=DATASET_PARAMETERS['workers_num'])\n",
    "\n",
    "voice_iterator = iter(cycle(voice_loader))\n",
    "face_iterator = iter(cycle(face_loader))\n",
    "\n"
   ]
  },
  {
   "cell_type": "code",
   "execution_count": 4,
   "id": "f5d4a697",
   "metadata": {},
   "outputs": [
    {
     "name": "stdout",
     "output_type": "stream",
     "text": [
      "Initializing networks...\n"
     ]
    }
   ],
   "source": [
    "# networks, Fe, Fg, Fd (f+d), Fc (f+c)\n",
    "print('Initializing networks...')\n",
    "e_net, e_optimizer = get_network('e', NETWORKS_PARAMETERS, train=False)\n",
    "g_net, g_optimizer = get_network('g', NETWORKS_PARAMETERS, train=True)\n",
    "f_net, f_optimizer = get_network('f', NETWORKS_PARAMETERS, train=True)\n",
    "d_net, d_optimizer = get_network('d', NETWORKS_PARAMETERS, train=True)\n",
    "c_net, c_optimizer = get_network('c', NETWORKS_PARAMETERS, train=True)\n",
    "\n",
    "# label for real/fake faces\n",
    "real_label = torch.full((DATASET_PARAMETERS['batch_size'], 1), 1)\n",
    "fake_label = torch.full((DATASET_PARAMETERS['batch_size'], 1), 0)\n",
    "\n",
    "# Meters for recording the training status\n",
    "iteration = Meter('Iter', 'sum', ':5d')\n",
    "data_time = Meter('Data', 'sum', ':4.2f')\n",
    "batch_time = Meter('Time', 'sum', ':4.2f')\n",
    "D_real = Meter('D_real', 'avg', ':3.2f')\n",
    "D_fake = Meter('D_fake', 'avg', ':3.2f')\n",
    "C_real = Meter('C_real', 'avg', ':3.2f')\n",
    "GD_fake = Meter('G_D_fake', 'avg', ':3.2f')\n",
    "GC_fake = Meter('G_C_fake', 'avg', ':3.2f')\n",
    "\n"
   ]
  },
  {
   "cell_type": "code",
   "execution_count": 7,
   "id": "66a16d29",
   "metadata": {},
   "outputs": [
    {
     "name": "stdout",
     "output_type": "stream",
     "text": [
      "Training models...\n",
      "Iter:    0, Data:0.76, Time:13.29, D_real:0.69, D_fake:0.69, C_real:6.83, G_D_fake:0.69, G_C_fake:6.83,\n"
     ]
    }
   ],
   "source": [
    "print('Training models...')\n",
    "for it in range(1):#50000\n",
    "    # data\n",
    "    start_time = time.time()\n",
    "    \n",
    "    voice, voice_label = next(voice_iterator)\n",
    "    face, face_label = next(face_iterator)\n",
    "    noise = 0.05*torch.randn(DATASET_PARAMETERS['batch_size'], 64, 1, 1)\n",
    "\n",
    "    # use GPU or not\n",
    "    if NETWORKS_PARAMETERS['GPU']: \n",
    "        voice, voice_label = voice.cuda(), voice_label.cuda()\n",
    "        face, face_label = face.cuda(), face_label.cuda()\n",
    "        real_label, fake_label = real_label.cuda(), fake_label.cuda()\n",
    "        noise = noise.cuda()\n",
    "    data_time.update(time.time() - start_time)\n",
    "\n",
    "    # get embeddings and generated faces\n",
    "    embeddings = e_net(voice)\n",
    "    embeddings = F.normalize(embeddings)\n",
    "    # introduce some permutations\n",
    "    embeddings = embeddings + noise\n",
    "    embeddings = F.normalize(embeddings)\n",
    "    fake = g_net(embeddings)\n",
    "\n",
    "    # Discriminator\n",
    "    f_optimizer.zero_grad()\n",
    "    d_optimizer.zero_grad()\n",
    "    c_optimizer.zero_grad()\n",
    "    real_score_out = d_net(f_net(face))\n",
    "    fake_score_out = d_net(f_net(fake.detach()))\n",
    "    real_label_out = c_net(f_net(face))\n",
    "    D_real_loss = F.binary_cross_entropy(torch.sigmoid(real_score_out), real_label.to(torch.float32))\n",
    "    D_fake_loss = F.binary_cross_entropy(torch.sigmoid(fake_score_out), fake_label.to(torch.float32))\n",
    "    C_real_loss = F.nll_loss(F.log_softmax(real_label_out, 1), face_label)\n",
    "    D_real.update(D_real_loss.item())\n",
    "    D_fake.update(D_fake_loss.item())\n",
    "    C_real.update(C_real_loss.item())\n",
    "    (D_real_loss + D_fake_loss + C_real_loss).backward()\n",
    "    f_optimizer.step()\n",
    "    d_optimizer.step()\n",
    "    c_optimizer.step()\n",
    "\n",
    "    # Generator\n",
    "    g_optimizer.zero_grad()\n",
    "    fake_score_out = d_net(f_net(fake))\n",
    "    fake_label_out = c_net(f_net(fake))\n",
    "    GD_fake_loss = F.binary_cross_entropy(torch.sigmoid(fake_score_out), real_label.to(torch.float32))\n",
    "    GC_fake_loss = F.nll_loss(F.log_softmax(fake_label_out, 1), voice_label)\n",
    "    (GD_fake_loss + GC_fake_loss).backward()\n",
    "    GD_fake.update(GD_fake_loss.item())\n",
    "    GC_fake.update(GC_fake_loss.item())\n",
    "    g_optimizer.step()\n",
    "\n",
    "    batch_time.update(time.time() - start_time)\n",
    "\n",
    "    # print status\n",
    "    if it % 200 == 0:\n",
    "        print(iteration, data_time, batch_time, \n",
    "              D_real, D_fake, C_real, GD_fake, GC_fake)\n",
    "        data_time.reset()\n",
    "        batch_time.reset()\n",
    "        D_real.reset()\n",
    "        D_fake.reset()\n",
    "        C_real.reset()\n",
    "        GD_fake.reset()\n",
    "        GC_fake.reset()\n",
    "\n",
    "        # snapshot\n",
    "        save_model(g_net, NETWORKS_PARAMETERS['g']['model_path'])\n",
    "    iteration.update(1)\n",
    "\n"
   ]
  },
  {
   "cell_type": "code",
   "execution_count": 5,
   "id": "af266c7a",
   "metadata": {},
   "outputs": [],
   "source": [
    "import os\n",
    "import glob\n",
    "import torch\n",
    "import torchvision.utils as vutils\n",
    "import webrtcvad\n",
    "\n",
    "from mfcc import MFCC\n",
    "from config import DATASET_PARAMETERS, NETWORKS_PARAMETERS\n",
    "from network import get_network\n",
    "from utils import voice2face\n",
    "\n"
   ]
  },
  {
   "cell_type": "code",
   "execution_count": 6,
   "id": "54ebfd08",
   "metadata": {},
   "outputs": [],
   "source": [
    "# initialization\n",
    "vad_obj = webrtcvad.Vad(2)\n",
    "mfc_obj = MFCC(nfilt=64, lowerf=20., upperf=7200., samprate=16000, nfft=1024, wlen=0.025)\n",
    "e_net, _ = get_network('e', NETWORKS_PARAMETERS, train=False)\n",
    "g_net, _ = get_network('g', NETWORKS_PARAMETERS, train=False)\n",
    "\n"
   ]
  },
  {
   "cell_type": "code",
   "execution_count": 7,
   "id": "a55c4d50",
   "metadata": {},
   "outputs": [],
   "source": [
    "# test\n",
    "voice_path = os.path.join(DATASET_PARAMETERS['test_data'], '*.wav')\n",
    "voice_list = glob.glob(voice_path)\n",
    "for filename in voice_list:\n",
    "    face_image = voice2face(e_net, g_net, filename, vad_obj, mfc_obj,\n",
    "                            NETWORKS_PARAMETERS['GPU'])\n",
    "    vutils.save_image(face_image.detach().clamp(-1,1),\n",
    "                      filename.replace('.wav', '.png'), normalize=True)"
   ]
  },
  {
   "cell_type": "code",
   "execution_count": 9,
   "id": "4a5a070b",
   "metadata": {},
   "outputs": [],
   "source": [
    "from matplotlib.pyplot import imshow\n",
    "%matplotlib inline"
   ]
  },
  {
   "cell_type": "code",
   "execution_count": 20,
   "id": "39f982dd",
   "metadata": {},
   "outputs": [
    {
     "name": "stderr",
     "output_type": "stream",
     "text": [
      "Clipping input data to the valid range for imshow with RGB data ([0..1] for floats or [0..255] for integers).\n"
     ]
    },
    {
     "data": {
      "text/plain": [
       "<matplotlib.image.AxesImage at 0x7fc205bab810>"
      ]
     },
     "execution_count": 20,
     "metadata": {},
     "output_type": "execute_result"
    },
    {
     "data": {
      "image/png": "[encoded data removed]",
      "text/plain": [
       "<Figure size 432x288 with 1 Axes>"
      ]
     },
     "metadata": {
      "needs_background": "light"
     },
     "output_type": "display_data"
    }
   ],
   "source": [
    "w, h = 20, 20\n",
    "X = face_image.detach().clamp(-1,1)\n",
    "X = X[0].reshape(64,64,3)\n",
    "\n",
    "imshow(X)"
   ]
  }
 ],
 "metadata": {
  "kernelspec": {
   "display_name": "Python 3 (ipykernel)",
   "language": "python",
   "name": "python3"
  },
  "language_info": {
   "codemirror_mode": {
    "name": "ipython",
    "version": 3
   },
   "file_extension": ".py",
   "mimetype": "text/x-python",
   "name": "python",
   "nbconvert_exporter": "python",
   "pygments_lexer": "ipython3",
   "version": "3.7.13"
  }
 },
 "nbformat": 4,
 "nbformat_minor": 5
}
